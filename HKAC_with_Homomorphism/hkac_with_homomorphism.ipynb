{
 "cells": [
  {
   "cell_type": "code",
   "execution_count": 1,
   "metadata": {},
   "outputs": [
    {
     "name": "stdout",
     "output_type": "stream",
     "text": [
      "Welcome to our Hierarchical Key Aggregation and Homomorphism enabled Cloud Cryptosystem\n",
      "Create an account on our Cloud Cryptosystem to secure your data\n",
      "Your account is being created\n"
     ]
    },
    {
     "ename": "IndexError",
     "evalue": "list assignment index out of range",
     "output_type": "error",
     "traceback": [
      "\u001b[1;31m---------------------------------------------------------------------------\u001b[0m",
      "\u001b[1;31mIndexError\u001b[0m                                Traceback (most recent call last)",
      "Cell \u001b[1;32mIn[1], line 22\u001b[0m\n\u001b[0;32m     20\u001b[0m current_num_users \u001b[38;5;241m=\u001b[39m \u001b[38;5;28mlen\u001b[39m(users[\u001b[38;5;124m'\u001b[39m\u001b[38;5;124muser_name\u001b[39m\u001b[38;5;124m'\u001b[39m])\n\u001b[0;32m     21\u001b[0m idx_for_new_user \u001b[38;5;241m=\u001b[39m current_num_users \u001b[38;5;241m-\u001b[39m \u001b[38;5;241m1\u001b[39m\n\u001b[1;32m---> 22\u001b[0m \u001b[43musers\u001b[49m\u001b[43m[\u001b[49m\u001b[38;5;124;43m\"\u001b[39;49m\u001b[38;5;124;43muser_name\u001b[39;49m\u001b[38;5;124;43m\"\u001b[39;49m\u001b[43m]\u001b[49m\u001b[43m[\u001b[49m\u001b[43midx_for_new_user\u001b[49m\u001b[43m]\u001b[49m \u001b[38;5;241m=\u001b[39m user_name\n\u001b[0;32m     23\u001b[0m users[\u001b[38;5;124m\"\u001b[39m\u001b[38;5;124mpassword\u001b[39m\u001b[38;5;124m\"\u001b[39m][idx_for_new_user] \u001b[38;5;241m=\u001b[39m password\n\u001b[0;32m     24\u001b[0m time\u001b[38;5;241m.\u001b[39msleep(\u001b[38;5;241m2\u001b[39m)\n",
      "\u001b[1;31mIndexError\u001b[0m: list assignment index out of range"
     ]
    }
   ],
   "source": [
    "import time\n",
    "from lightphe import LightPHE\n",
    "\n",
    "enc_add_algo = LightPHE(algorithm_name=\"Paillier\")\n",
    "enc_mult_algo = LightPHE(algorithm_name=\"RSA\")\n",
    "\n",
    "users = {\"user_name\" : [], \"password\" : [], \"user_data\" : [], \"user_data_enc_add_algo\" : [], \"user_data_enc_mult_algo\" : [], \"user_data_enc_add_algo\" : [], \"user_data_enc_mult_algo\" : [], }\n",
    "\n",
    "while True:\n",
    "    print(\"Welcome to our Hierarchical Key Aggregation and Homomorphism enabled Cloud Cryptosystem\")\n",
    "    time.sleep(1)\n",
    "    print(\"Create an account on our Cloud Cryptosystem to secure your data\")\n",
    "    time.sleep(1)\n",
    "    user_input = input(\"Enter 'Create' in the input box to create an account or 'Quit' to close the application : \").lower()\n",
    "    time.sleep(1)\n",
    "    if user_input == \"create\":\n",
    "        user_name = input(\"Enter a username for your account (e.g. shavit13) : \").lower()\n",
    "        password = input(\"Create a strong password for your account (an alphanumeric password with special characters should be chosen) : \")\n",
    "        print(\"Your account is being created\")\n",
    "        current_num_users = len(users['user_name'])\n",
    "\n",
    "        if current_num_users == 0:\n",
    "            idx_for_new_user = 0\n",
    "        else:\n",
    "            idx_for_new_user = current_num_users - 1\n",
    "\n",
    "        users[\"user_name\"][idx_for_new_user] = user_name\n",
    "        users[\"password\"][idx_for_new_user] = password\n",
    "        time.sleep(2)\n",
    "\n",
    "        add_data = input(\"Want to securely store your numeric passwords in your cloud account ? Enter 'Yes' if you do and 'No' if you don't : \").lower()\n",
    "        if add_data == 'yes':\n",
    "            user_data = int(input(\"Enter a numeric password you want to store securely : \"))\n",
    "            print(\"Your data is being encrypted and added\")\n",
    "            time.sleep(1)\n",
    "            \n",
    "            users['user_data'][idx_for_new_user] = []\n",
    "            current_user_num = idx_for_new_user\n",
    "\n",
    "            num_current_user_data = len(users['user_data']) \n",
    "            idx_for_current_user_data_to_store = num_current_user_data - 1\n",
    "            users[\"user_data\"][idx_for_current_user_data_to_store] = user_data\n",
    "            user_data_enc_add = enc_add_algo.encrypt(user_data)\n",
    "            user_data_enc_mult = enc_add_algo.encrypt(user_data)\n",
    "            users['user_data_enc_add_algo'][idx_for_current_user_data_to_store] = user_data_enc_add\n",
    "            users['user_data_enc_mult_algo'][idx_for_current_user_data_to_store] = user_data_enc_mult\n",
    "            print(users)\n"
   ]
  },
  {
   "cell_type": "code",
   "execution_count": null,
   "metadata": {},
   "outputs": [],
   "source": []
  }
 ],
 "metadata": {
  "kernelspec": {
   "display_name": "encryption_env",
   "language": "python",
   "name": "python3"
  },
  "language_info": {
   "codemirror_mode": {
    "name": "ipython",
    "version": 3
   },
   "file_extension": ".py",
   "mimetype": "text/x-python",
   "name": "python",
   "nbconvert_exporter": "python",
   "pygments_lexer": "ipython3",
   "version": "3.11.3"
  }
 },
 "nbformat": 4,
 "nbformat_minor": 2
}
